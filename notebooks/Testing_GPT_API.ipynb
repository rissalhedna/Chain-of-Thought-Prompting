{
 "cells": [
  {
   "cell_type": "code",
   "execution_count": 2,
   "metadata": {},
   "outputs": [],
   "source": [
    "import rootutils\n",
    "import sys\n",
    "rootutils.setup_root('.', indicator='.project-root', pythonpath=True)\n",
    "sys.path.append('../src')"
   ]
  },
  {
   "cell_type": "code",
   "execution_count": 3,
   "metadata": {},
   "outputs": [
    {
     "name": "stderr",
     "output_type": "stream",
     "text": [
      "/Users/rissal.hedna/Desktop/Extras/Chain-of-Thought-Prompting/.venv/lib/python3.11/site-packages/tqdm/auto.py:21: TqdmWarning: IProgress not found. Please update jupyter and ipywidgets. See https://ipywidgets.readthedocs.io/en/stable/user_install.html\n",
      "  from .autonotebook import tqdm as notebook_tqdm\n"
     ]
    }
   ],
   "source": [
    "from src.gpt_utils import initialize_openai_model, callGPT\n",
    "from src.prompt_utils import MATH_SYSTEM_PROMPT, getKojimaQuestion, getRegularQuestion\n",
    "from src.data_utils import CoTDataModule"
   ]
  },
  {
   "cell_type": "code",
   "execution_count": 4,
   "metadata": {},
   "outputs": [
    {
     "name": "stdout",
     "output_type": "stream",
     "text": [
      "Loaded dataset 'openai/gsm8k'.\n",
      "Processed 'openai/gsm8k' dataset.\n",
      "Loaded dataset 'tau/commonsense_qa'.\n",
      "Processed 'tau/commonsense_qa' dataset.\n"
     ]
    }
   ],
   "source": [
    "client = initialize_openai_model()\n",
    "math_ds = CoTDataModule(\"openai/gsm8k\")\n",
    "cmnsense_ds = CoTDataModule(\"tau/commonsense_qa\")"
   ]
  },
  {
   "cell_type": "code",
   "execution_count": 5,
   "metadata": {},
   "outputs": [
    {
     "data": {
      "text/plain": [
       "{'question': 'Julie is reading a 120-page book. Yesterday, she was able to read 12 pages and today, she read twice as many pages as yesterday. If she wants to read half of the remaining pages tomorrow, how many pages should she read?',\n",
       " 'answer': 'Maila read 12 x 2 = <<12*2=24>>24 pages today.\\nSo she was able to read a total of 12 + 24 = <<12+24=36>>36 pages since yesterday.\\nThere are 120 - 36 = <<120-36=84>>84 pages left to be read.\\nSince she wants to read half of the remaining pages tomorrow, then she should read 84/2 = <<84/2=42>>42 pages.\\n#### 42'}"
      ]
     },
     "execution_count": 5,
     "metadata": {},
     "output_type": "execute_result"
    }
   ],
   "source": [
    "math_ds[3]"
   ]
  },
  {
   "cell_type": "code",
   "execution_count": 6,
   "metadata": {},
   "outputs": [
    {
     "data": {
      "text/plain": [
       "{'question': 'The sanctions against the school were a punishing blow, and they seemed to what the efforts the school had made to change?',\n",
       " 'choices': [{'label': 'A', 'text': 'ignore'},\n",
       "  {'label': 'B', 'text': 'enforce'},\n",
       "  {'label': 'C', 'text': 'authoritarian'},\n",
       "  {'label': 'D', 'text': 'yell at'},\n",
       "  {'label': 'E', 'text': 'avoid'}],\n",
       " 'answer': 'A'}"
      ]
     },
     "execution_count": 6,
     "metadata": {},
     "output_type": "execute_result"
    }
   ],
   "source": [
    "cmnsense_ds[0]"
   ]
  },
  {
   "cell_type": "code",
   "execution_count": 10,
   "metadata": {},
   "outputs": [
    {
     "data": {
      "text/plain": [
       "'To find the total number of clips Natalia sold in April and May, we start by determining how many clips she sold in May.\\n\\n1. In April, Natalia sold 48 clips.\\n2. In May, she sold half as many clips as in April. So, she sold 48 / 2 = 24 clips in May.\\n\\nNow, we add the clips sold in both months:\\n\\nTotal clips = Clips sold in April + Clips sold in May\\nTotal clips = 48 + 24 = 72\\n\\nThus, the total number of clips sold altogether in April and May is:\\n\\n####72'"
      ]
     },
     "execution_count": 10,
     "metadata": {},
     "output_type": "execute_result"
    }
   ],
   "source": [
    "callGPT(MATH_SYSTEM_PROMPT,getKojimaQuestion(math_ds[0]['question']))"
   ]
  },
  {
   "cell_type": "code",
   "execution_count": 9,
   "metadata": {},
   "outputs": [
    {
     "name": "stdout",
     "output_type": "stream",
     "text": [
      "Creating question vectors in parallel...\n"
     ]
    },
    {
     "name": "stderr",
     "output_type": "stream",
     "text": [
      "Creating embeddings: 100%|██████████| 16/16 [00:01<00:00,  9.61sample/s]\n"
     ]
    },
    {
     "name": "stdout",
     "output_type": "stream",
     "text": [
      "Clustering question vectors...\n",
      "Finding representative points...\n"
     ]
    },
    {
     "name": "stderr",
     "output_type": "stream",
     "text": [
      "Finding representatives: 100%|██████████| 8/8 [00:00<00:00, 50006.61cluster/s]\n"
     ]
    },
    {
     "data": {
      "text/plain": [
       "'Natalia sold 48 clips in April. In May, she sold half as many clips, which is 48 / 2 = 24 clips. \\n\\nNow, we add the total clips sold in April and May: 48 + 24 = 72.\\n\\n#### 72'"
      ]
     },
     "execution_count": 9,
     "metadata": {},
     "output_type": "execute_result"
    }
   ],
   "source": [
    "from src.prompt_utils import getAutoCotQuestion\n",
    "callGPT(MATH_SYSTEM_PROMPT, getAutoCotQuestion(math_ds[0]['question'] , math_ds[:16]))"
   ]
  }
 ],
 "metadata": {
  "kernelspec": {
   "display_name": ".venv",
   "language": "python",
   "name": "python3"
  },
  "language_info": {
   "codemirror_mode": {
    "name": "ipython",
    "version": 3
   },
   "file_extension": ".py",
   "mimetype": "text/x-python",
   "name": "python",
   "nbconvert_exporter": "python",
   "pygments_lexer": "ipython3",
   "version": "3.11.9"
  }
 },
 "nbformat": 4,
 "nbformat_minor": 2
}
