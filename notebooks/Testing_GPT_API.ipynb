{
 "cells": [
  {
   "cell_type": "code",
   "execution_count": 1,
   "metadata": {},
   "outputs": [
    {
     "name": "stderr",
     "output_type": "stream",
     "text": [
      "/Users/rissal.hedna/Desktop/Extras/Chain-of-Thought-Prompting/.venv/lib/python3.12/site-packages/tqdm/auto.py:21: TqdmWarning: IProgress not found. Please update jupyter and ipywidgets. See https://ipywidgets.readthedocs.io/en/stable/user_install.html\n",
      "  from .autonotebook import tqdm as notebook_tqdm\n"
     ]
    }
   ],
   "source": [
    "import rootutils\n",
    "import os\n",
    "\n",
    "current_file = os.getcwd()\n",
    "root = rootutils.find_root(search_from=current_file, indicator=\".project-root\")\n",
    "rootutils.setup_root(root, pythonpath=True)\n",
    "\n",
    "from src.gpt_utils import initialize_openai_model, callGPT\n",
    "from src.prompt_utils import MATH_SYSTEM_PROMPT, getKojimaPrompt, getRegularPrompt\n",
    "from src.data_utils import CoTDataset"
   ]
  },
  {
   "cell_type": "code",
   "execution_count": 2,
   "metadata": {},
   "outputs": [
    {
     "name": "stdout",
     "output_type": "stream",
     "text": [
      "Loaded dataset 'openai/gsm8k'.\n",
      "Processed 'openai/gsm8k' dataset.\n"
     ]
    }
   ],
   "source": [
    "client = initialize_openai_model()\n",
    "math_ds = CoTDataset(\"openai/gsm8k\")"
   ]
  },
  {
   "cell_type": "code",
   "execution_count": 3,
   "metadata": {},
   "outputs": [
    {
     "data": {
      "text/plain": [
       "{'question': 'Natalia sold clips to 48 of her friends in April, and then she sold half as many clips in May. How many clips did Natalia sell altogether in April and May?',\n",
       " 'answer': 'Natalia sold 48/2 = <<48/2=24>>24 clips in May.\\nNatalia sold 48+24 = <<48+24=72>>72 clips altogether in April and May.\\n#### 72',\n",
       " 'question_length': 155}"
      ]
     },
     "execution_count": 3,
     "metadata": {},
     "output_type": "execute_result"
    }
   ],
   "source": [
    "math_ds[0]"
   ]
  },
  {
   "cell_type": "code",
   "execution_count": null,
   "metadata": {},
   "outputs": [
    {
     "name": "stdout",
     "output_type": "stream",
     "text": [
      "First, we determine the number of clips Natalia sold in May. Since she sold half as many clips in May as she did in April:\n",
      "\n",
      "Clips sold in April = 48  \n",
      "Clips sold in May = 48 / 2 = 24  \n",
      "\n",
      "Now, we add the clips sold in both months to find the total:\n",
      "\n",
      "Total clips sold = Clips in April + Clips in May  \n",
      "Total clips sold = 48 + 24 = 72  \n",
      "\n",
      "Thus, the total number of clips Natalia sold altogether in April and May is:\n",
      "\n",
      "####72\n",
      "####72\n"
     ]
    }
   ],
   "source": [
    "callGPT(MATH_SYSTEM_PROMPT,getKojimaPrompt(math_ds[0]['question']), client)\n",
    "callGPT(MATH_SYSTEM_PROMPT,getRegularPrompt(math_ds[0]['question']), client)"
   ]
  },
  {
   "cell_type": "code",
   "execution_count": null,
   "metadata": {},
   "outputs": [],
   "source": []
  }
 ],
 "metadata": {
  "kernelspec": {
   "display_name": ".venv",
   "language": "python",
   "name": "python3"
  },
  "language_info": {
   "codemirror_mode": {
    "name": "ipython",
    "version": 3
   },
   "file_extension": ".py",
   "mimetype": "text/x-python",
   "name": "python",
   "nbconvert_exporter": "python",
   "pygments_lexer": "ipython3",
   "version": "3.12.5"
  }
 },
 "nbformat": 4,
 "nbformat_minor": 2
}
