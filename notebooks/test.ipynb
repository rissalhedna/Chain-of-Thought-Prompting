{
 "cells": [
  {
   "cell_type": "code",
   "execution_count": 22,
   "metadata": {},
   "outputs": [],
   "source": [
    "class MathPrompts:\n",
    "    REGULAR_PROMPT = \"\"\"\n",
    "        You are an expert math tutor. When given a word problem, solve it following these exact requirements:\n",
    "        Present your solution as a sequence of logical steps\n",
    "        Write in clear, complete sentences\n",
    "        Show EVERY calculation inside double angle brackets with an equals sign: <<calculation=result>>\n",
    "        After each calculation, state the result in a descriptive sentence\n",
    "        End with the final answer preceded by four hash symbols (####)\n",
    "        Include relevant units in all answers\n",
    "        Do not use bullet points or numbered lists in your answer\n",
    "\n",
    "        For example:\n",
    "        Given: \"Natalia sold clips to 48 of her friends in April, and then she sold half as many clips in May. How many clips did Natalia sell altogether in April and May?\"\n",
    "        Your response should be exactly in this format:\n",
    "        Natalia sold 48/2 = <<48/2=24>>24 clips in May.\n",
    "        Natalia sold 48+24 = <<48+24=72>>72 clips altogether in April and May.\n",
    "        #### 72\n",
    "\n",
    "        Now solve the math word problem provided, following this exact format.\n",
    "    \"\"\"\n"
   ]
  },
  {
   "cell_type": "code",
   "execution_count": 23,
   "metadata": {},
   "outputs": [],
   "source": [
    "import sys\n",
    "sys.path.append('..')\n",
    "from src.utils import initialize_openai_model, callGPT"
   ]
  },
  {
   "cell_type": "code",
   "execution_count": 24,
   "metadata": {},
   "outputs": [],
   "source": [
    "def extract_final_answer(response):\n",
    "    \"\"\"Extract the final answer from a response string.\"\"\"\n",
    "    match = re.search(r'####\\s*(\\d+)', response)\n",
    "    return int(match.group(1)) if match else None"
   ]
  },
  {
   "cell_type": "code",
   "execution_count": null,
   "metadata": {},
   "outputs": [],
   "source": []
  },
  {
   "cell_type": "code",
   "execution_count": 26,
   "metadata": {},
   "outputs": [],
   "source": [
    "import sys\n",
    "sys.path.append(\"..\")\n",
    "from src.data_utils import CoTDataset"
   ]
  },
  {
   "cell_type": "code",
   "execution_count": 9,
   "metadata": {},
   "outputs": [
    {
     "name": "stdout",
     "output_type": "stream",
     "text": [
      "Loaded dataset 'openai/gsm8k'.\n",
      "Processed 'openai/gsm8k' dataset.\n",
      "Loaded dataset 'tau/commonsense_qa'.\n",
      "Processed 'tau/commonsense_qa' dataset.\n"
     ]
    }
   ],
   "source": [
    "math_ds = CoTDataset(\"openai/gsm8k\")\n",
    "commonsense_ds = CoTDataset(\"tau/commonsense_qa\")"
   ]
  },
  {
   "cell_type": "code",
   "execution_count": null,
   "metadata": {},
   "outputs": [
    {
     "name": "stdout",
     "output_type": "stream",
     "text": [
      "Problem: Jack is running a bake sale to help pay for his basketball team's uniforms. He's already sold 4 brownies for $3 each and 5 lemon squares for $2 each. If Jack's goal is to make $50 and he sells cookies for $4 each, how many cookies does he need to sell to reach his goal?\n",
      "Expected Answer: 7\n",
      "GPT's Response: Jack has sold 4 brownies for $3 each. To find out how much money he made from the brownies, I will calculate the total earnings from the brownies. \n",
      "\n",
      "First, I can calculate the total earnings from the brownies as follows: \n",
      "4 brownies * $3 per brownie = <<4*3=12>>12 dollars from brownies. \n",
      "Jack made $12 from selling brownies. \n",
      "\n",
      "Next, Jack has sold 5 lemon squares for $2 each. I will calculate the total earnings from the lemon squares now: \n",
      "5 lemon squares * $2 per lemon square = <<5*2=10>>10 dollars from lemon squares. \n",
      "Jack made $10 from selling lemon squares. \n",
      "\n",
      "Now I will find the total earnings Jack has made so far by adding his earnings from brownies and lemon squares: \n",
      "$12 from brownies + $10 from lemon squares = <<12+10=22>>22 dollars total so far. \n",
      "Jack has made a total of $22 from the bake sale so far. \n",
      "\n",
      "Jack's goal is to make $50. To determine how much more money he needs to raise, I will subtract his current total from his goal: \n",
      "$50 - $22 = <<50-22=28>>28 dollars still needed. \n",
      "Jack still needs to raise $28 to reach his goal.\n",
      "\n",
      "Jack sells cookies for $4 each. To find out how many cookies he must sell to raise the remaining $28, I will divide the amount needed by the price per cookie: \n",
      "$28 ÷ $4 per cookie = <<28/4=7>>7 cookies. \n",
      "Jack needs to sell 7 cookies to reach his goal of $50.\n",
      "\n",
      "#### 7\n",
      "GPT's Extracted Answer: 7\n",
      "The answer is correct!\n"
     ]
    }
   ],
   "source": [
    "def evaluate_single_question(dataset, client):\n",
    "    \"\"\"Evaluate the GPT model on a single question.\"\"\"\n",
    "    sample = dataset[0]\n",
    "    problem = sample['question']\n",
    "    expected_answer = extract_final_answer(sample['answer'])\n",
    "\n",
    "    gpt_response = callGPT(MathPrompts.REGULAR_PROMPT, problem, client)\n",
    "    \n",
    "    if gpt_response is None:\n",
    "        print(\"Error: Failed to get a response from GPT-4.\")\n",
    "        return\n",
    "\n",
    "    gpt_answer = extract_final_answer(gpt_response)\n",
    "\n",
    "    print(\"Problem:\", problem)\n",
    "    print(\"Expected Answer:\", expected_answer)\n",
    "    print(\"GPT's Response:\", gpt_response)\n",
    "    print(\"GPT's Extracted Answer:\", gpt_answer)\n",
    "    \n",
    "    if gpt_answer == expected_answer:\n",
    "        print(\"The answer is correct!\")\n",
    "    else:\n",
    "        print(\"The answer is incorrect.\")\n",
    "\n",
    "client = initialize_openai_model()\n",
    "\n",
    "evaluate_single_question([math_ds[238]], client)"
   ]
  },
  {
   "cell_type": "code",
   "execution_count": null,
   "metadata": {},
   "outputs": [],
   "source": [
    "def evaluate_100_questions(dataset, client):\n",
    "    \"\"\"Evaluate the GPT model on the first 100 questions.\"\"\"\n",
    "    correct = 0\n",
    "    total = min(len(dataset), 100)\n",
    "    results = []\n",
    "\n",
    "    for i in range(total):\n",
    "        sample = dataset[i]\n",
    "        problem = sample['question']\n",
    "        expected_answer = extract_final_answer(sample['answer'])\n",
    "\n",
    "        if expected_answer is None:\n",
    "            print(f\"Skipping question {i}: Invalid expected answer format.\")\n",
    "            continue\n",
    "\n",
    "        gpt_response = callGPT(MathPrompts.REGULAR_PROMPT, problem, client)\n",
    "        if gpt_response is None:\n",
    "            print(f\"Skipping question {i}: API error.\")\n",
    "            continue\n",
    "\n",
    "        gpt_answer = extract_final_answer(gpt_response)\n",
    "\n",
    "        is_correct = (gpt_answer == expected_answer)\n",
    "        if is_correct:\n",
    "            correct += 1\n",
    "\n",
    "        results.append({\n",
    "            'problem': problem,\n",
    "            'expected_answer': expected_answer,\n",
    "            'gpt_response': gpt_response,\n",
    "            'gpt_answer': gpt_answer,\n",
    "            'is_correct': is_correct\n",
    "        })\n",
    "\n",
    "    accuracy = correct / total * 100\n",
    "    print(f\"\\nTotal questions: {total}, Correct answers: {correct}, Accuracy: {accuracy:.2f}%\")\n",
    "\n",
    "    results_df = pd.DataFrame(results)\n",
    "    return results_df\n"
   ]
  },
  {
   "cell_type": "code",
   "execution_count": null,
   "metadata": {},
   "outputs": [
    {
     "name": "stdout",
     "output_type": "stream",
     "text": [
      "\n",
      "Total questions: 100, Correct answers: 87, Accuracy: 87.00%\n"
     ]
    },
    {
     "data": {
      "text/html": [
       "<div>\n",
       "<style scoped>\n",
       "    .dataframe tbody tr th:only-of-type {\n",
       "        vertical-align: middle;\n",
       "    }\n",
       "\n",
       "    .dataframe tbody tr th {\n",
       "        vertical-align: top;\n",
       "    }\n",
       "\n",
       "    .dataframe thead th {\n",
       "        text-align: right;\n",
       "    }\n",
       "</style>\n",
       "<table border=\"1\" class=\"dataframe\">\n",
       "  <thead>\n",
       "    <tr style=\"text-align: right;\">\n",
       "      <th></th>\n",
       "      <th>problem</th>\n",
       "      <th>expected_answer</th>\n",
       "      <th>gpt_response</th>\n",
       "      <th>gpt_answer</th>\n",
       "      <th>is_correct</th>\n",
       "    </tr>\n",
       "  </thead>\n",
       "  <tbody>\n",
       "    <tr>\n",
       "      <th>0</th>\n",
       "      <td>Natalia sold clips to 48 of her friends in Apr...</td>\n",
       "      <td>72</td>\n",
       "      <td>Natalia sold clips to 48 of her friends in Apr...</td>\n",
       "      <td>72.0</td>\n",
       "      <td>True</td>\n",
       "    </tr>\n",
       "    <tr>\n",
       "      <th>1</th>\n",
       "      <td>Weng earns $12 an hour for babysitting. Yester...</td>\n",
       "      <td>10</td>\n",
       "      <td>Weng earns $12 for every hour she babysits. Fi...</td>\n",
       "      <td>10.0</td>\n",
       "      <td>True</td>\n",
       "    </tr>\n",
       "    <tr>\n",
       "      <th>2</th>\n",
       "      <td>Betty is saving money for a new wallet which c...</td>\n",
       "      <td>5</td>\n",
       "      <td>Betty needs a total of $100 for the wallet. Sh...</td>\n",
       "      <td>5.0</td>\n",
       "      <td>True</td>\n",
       "    </tr>\n",
       "    <tr>\n",
       "      <th>3</th>\n",
       "      <td>Julie is reading a 120-page book. Yesterday, s...</td>\n",
       "      <td>42</td>\n",
       "      <td>Julie read 12 pages yesterday. Since she read ...</td>\n",
       "      <td>42.0</td>\n",
       "      <td>True</td>\n",
       "    </tr>\n",
       "    <tr>\n",
       "      <th>4</th>\n",
       "      <td>James writes a 3-page letter to 2 different fr...</td>\n",
       "      <td>624</td>\n",
       "      <td>James writes 3 pages per letter. Since he writ...</td>\n",
       "      <td>624.0</td>\n",
       "      <td>True</td>\n",
       "    </tr>\n",
       "  </tbody>\n",
       "</table>\n",
       "</div>"
      ],
      "text/plain": [
       "                                             problem  expected_answer  \\\n",
       "0  Natalia sold clips to 48 of her friends in Apr...               72   \n",
       "1  Weng earns $12 an hour for babysitting. Yester...               10   \n",
       "2  Betty is saving money for a new wallet which c...                5   \n",
       "3  Julie is reading a 120-page book. Yesterday, s...               42   \n",
       "4  James writes a 3-page letter to 2 different fr...              624   \n",
       "\n",
       "                                        gpt_response  gpt_answer  is_correct  \n",
       "0  Natalia sold clips to 48 of her friends in Apr...        72.0        True  \n",
       "1  Weng earns $12 for every hour she babysits. Fi...        10.0        True  \n",
       "2  Betty needs a total of $100 for the wallet. Sh...         5.0        True  \n",
       "3  Julie read 12 pages yesterday. Since she read ...        42.0        True  \n",
       "4  James writes 3 pages per letter. Since he writ...       624.0        True  "
      ]
     },
     "execution_count": 29,
     "metadata": {},
     "output_type": "execute_result"
    }
   ],
   "source": [
    "client = initialize_openai_model()\n",
    "\n",
    "results_df = evaluate_100_questions(math_ds, client)\n",
    "\n",
    "results_df.head()"
   ]
  },
  {
   "cell_type": "code",
   "execution_count": null,
   "metadata": {},
   "outputs": [],
   "source": []
  }
 ],
 "metadata": {
  "kernelspec": {
   "display_name": ".venv",
   "language": "python",
   "name": "python3"
  },
  "language_info": {
   "codemirror_mode": {
    "name": "ipython",
    "version": 3
   },
   "file_extension": ".py",
   "mimetype": "text/x-python",
   "name": "python",
   "nbconvert_exporter": "python",
   "pygments_lexer": "ipython3",
   "version": "3.11.10"
  }
 },
 "nbformat": 4,
 "nbformat_minor": 2
}
