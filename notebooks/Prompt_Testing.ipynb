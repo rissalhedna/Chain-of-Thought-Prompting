{
 "cells": [
  {
   "cell_type": "markdown",
   "metadata": {},
   "source": [
    "### Test code for evaluating prompts on a dataset"
   ]
  },
  {
   "cell_type": "code",
   "execution_count": 1,
   "metadata": {},
   "outputs": [],
   "source": [
    "# from src.prompt_utils import evaluate_prompts, MATH_SYSTEM_PROMPT\n",
    "\n",
    "# results = evaluate_prompts(\n",
    "#     dataset=dataset,\n",
    "#     client=client,\n",
    "#     system_prompt=MATH_SYSTEM_PROMPT,\n",
    "#     output_path=\"evaluation_results.json\",\n",
    "#     max_workers=5\n",
    "# )\n",
    "\n",
    "# print(\"\\nAccuracy Results:\")\n",
    "# for prompt_name, accuracy in results.items():\n",
    "#     print(f\"{prompt_name}: {accuracy:.2%}\")"
   ]
  },
  {
   "cell_type": "markdown",
   "metadata": {},
   "source": [
    "### Test code for creating word embeddings for Auto CoT"
   ]
  },
  {
   "cell_type": "code",
   "execution_count": 1,
   "metadata": {},
   "outputs": [
    {
     "name": "stderr",
     "output_type": "stream",
     "text": [
      "/Users/rissal.hedna/Desktop/Extras/Chain-of-Thought-Prompting/.venv/lib/python3.11/site-packages/tqdm/auto.py:21: TqdmWarning: IProgress not found. Please update jupyter and ipywidgets. See https://ipywidgets.readthedocs.io/en/stable/user_install.html\n",
      "  from .autonotebook import tqdm as notebook_tqdm\n"
     ]
    }
   ],
   "source": [
    "import rootutils\n",
    "rootutils.setup_root(\".\",indicator=\".project-root\")\n",
    "import sys\n",
    "sys.path.append(\"..\")\n",
    "sys.path.append(\"../src\")\n",
    "\n",
    "from src.gpt_utils import initialize_openai_model\n",
    "from src.data_utils import CoTDataModule"
   ]
  },
  {
   "cell_type": "code",
   "execution_count": 2,
   "metadata": {},
   "outputs": [
    {
     "name": "stdout",
     "output_type": "stream",
     "text": [
      "Loaded dataset 'openai/gsm8k'.\n",
      "Processed 'openai/gsm8k' dataset.\n"
     ]
    }
   ],
   "source": [
    "client = initialize_openai_model()\n",
    "\n",
    "datamodule = CoTDataModule(dataset_name=\"openai/gsm8k\")\n",
    "\n",
    "subset = datamodule.data[:100]"
   ]
  },
  {
   "cell_type": "code",
   "execution_count": 5,
   "metadata": {},
   "outputs": [
    {
     "data": {
      "text/plain": [
       "'Natalia sold 48/2 = <<48/2=24>>24 clips in May.\\nNatalia sold 48+24 = <<48+24=72>>72 clips altogether in April and May.\\n#### 72'"
      ]
     },
     "execution_count": 5,
     "metadata": {},
     "output_type": "execute_result"
    }
   ],
   "source": [
    "subset['answer'][0]"
   ]
  },
  {
   "cell_type": "code",
   "execution_count": 6,
   "metadata": {},
   "outputs": [
    {
     "name": "stdout",
     "output_type": "stream",
     "text": [
      "Creating question vectors in parallel...\n"
     ]
    },
    {
     "name": "stderr",
     "output_type": "stream",
     "text": [
      "Creating embeddings: 100%|██████████| 100/100 [10:04<00:00,  6.05s/sample]\n"
     ]
    },
    {
     "name": "stdout",
     "output_type": "stream",
     "text": [
      "Clustering question vectors...\n",
      "Finding representative points...\n"
     ]
    },
    {
     "name": "stderr",
     "output_type": "stream",
     "text": [
      "Finding representatives: 100%|██████████| 8/8 [00:00<00:00, 11646.80cluster/s]\n"
     ]
    }
   ],
   "source": [
    "from prompt_utils import getAutoCotQuestion\n",
    "\n",
    "question = getAutoCotQuestion(subset['question'][0], subset)"
   ]
  },
  {
   "cell_type": "code",
   "execution_count": 9,
   "metadata": {},
   "outputs": [
    {
     "name": "stdout",
     "output_type": "stream",
     "text": [
      "Natalia sold clips to 48 of her friends in April, and then she sold half as many clips in May. How many clips did Natalia sell altogether in April and May?Here are some examples of how to answer the question: \n",
      "Example 1: Five friends eat at a fast-food chain and order the following: 5 pieces of hamburger that cost $3 each; 4 sets of French fries that cost $1.20; 5 cups of soda that cost $0.5 each; and 1 platter of spaghetti that cost $2.7. How much will each of them pay if they will split the bill equally?\n",
      "Answer: The cost of 5 pieces of hamburger is $3 x 5 = $<<3*5=15>>15.\n",
      "The cost of 4 sets of French fries is $1.20 x 4 = $<<1.20*4=4.80>>4.80.\n",
      "The cost of 5 cups of soda is $0.5 x 5 = $<<0.5*5=2.50>>2.50.\n",
      "So their total bill is $15 + $4.80 + $2.50 +$2.7 = $<<15+4.8+2.5+2.7=25>>25.\n",
      "Hence, each of the five friends will contribute $25/5 = $<<25/5=5>>5.\n",
      "#### 5\n",
      "\n",
      "Now, let's think step by step. Example 2: Joy can read 8 pages of a book in 20 minutes. How many hours will it take her to read 120 pages?\n",
      "Answer: In one hour, there are 3 sets of 20 minutes.\n",
      "So, Joy can read 8 x 3 = <<8*3=24>>24 pages in an hour.\n",
      "It will take her 120/24 = <<120/24=5>>5 hours to read 120 pages.\n",
      "#### 5\n",
      "\n",
      "Now, let's think step by step. Example 3: Arnel had ten boxes of pencils with the same number of pencils in each box.  He kept ten pencils and shared the remaining pencils equally with his five friends. If his friends got eight pencils each, how many pencils are in each box?\n",
      "Answer: Arnel shared 5 x 8 = <<5*8=40>>40 pencils with his friends.\n",
      "So, he had 10 + 40 = <<10+40=50>>50 pencils in all.\n",
      "Therefore, each box had 50/10 = <<50/10=5>>5 pencils inside.\n",
      "#### 5\n",
      "\n",
      "Now, let's think step by step. Example 4: At a flea market, Hillary sells handmade crafts for 12 dollars per craft. Today, Hillary sells 3 crafts and is given an extra 7 dollars from an appreciative customer. Later on, Hillary deposits 18 dollars from today's profits into her bank account. How many dollars is Hillary left with after making the deposit?\n",
      "Answer: Hillary sells 3 crafts for 12 dollars each, for a total of 3 crafts * $12/craft = $<<3*12=36>>36\n",
      "She receives an extra 7 dollars from a customer, increasing the total to $36 + $7 = $<<36+7=43>>43\n",
      "She then deposits 18 dollars in the bank, leaving her with $43 - $18 = $25\n",
      "#### 25\n",
      "\n",
      "Now, let's think step by step. Example 5: Tim rides his bike back and forth to work for each of his 5 workdays.  His work is 20 miles away.  He also goes for a weekend bike ride of 200 miles.    If he can bike at 25 mph how much time does he spend biking a week?\n",
      "Answer: He bikes 20*2=<<20*2=40>>40 miles each day for work\n",
      "So he bikes 40*5=<<40*5=200>>200 miles for work\n",
      "That means he bikes a total of 200+200=<<200+200=400>>400 miles for work\n",
      "So he bikes a total of 400/25=<<400/25=16>>16 hours\n",
      "#### 16\n",
      "\n",
      "Now, let's think step by step. Example 6: Ken created a care package to send to his brother, who was away at boarding school.  Ken placed a box on a scale, and then he poured into the box enough jelly beans to bring the weight to 2 pounds.  Then, he added enough brownies to cause the weight to triple.  Next, he added another 2 pounds of jelly beans.  And finally, he added enough gummy worms to double the weight once again.  What was the final weight of the box of goodies, in pounds?\n",
      "Answer: To the initial 2 pounds of jelly beans, he added enough brownies to cause the weight to triple, bringing the weight to 2*3=<<2*3=6>>6 pounds.\n",
      "Next, he added another 2 pounds of jelly beans, bringing the weight to 6+2=<<6+2=8>>8 pounds.\n",
      "And finally, he added enough gummy worms to double the weight once again, to a final weight of 8*2=<<8*2=16>>16 pounds.\n",
      "#### 16\n",
      "\n",
      "Now, let's think step by step. Example 7: James writes a 3-page letter to 2 different friends twice a week.  How many pages does he write a year?\n",
      "Answer: He writes each friend 3*2=<<3*2=6>>6 pages a week\n",
      "So he writes 6*2=<<6*2=12>>12 pages every week\n",
      "That means he writes 12*52=<<12*52=624>>624 pages a year\n",
      "#### 624\n",
      "\n",
      "Now, let's think step by step. Example 8: Every hour Joanne has to collect the coins out of the fountain inside the mall. During the first hour, she collected 15 coins. For the next two hours, she collected 35 coins from the fountain. In the fourth hour, she collected 50 coins from the fountain but she gave 15 of them to her coworker so she could buy a soda. How many coins did she have after the fourth hour?\n",
      "Answer: 15 coins collected in hour one\n",
      "35 coins collected in hour two\n",
      "35 coins collected in hour three\n",
      "50 coins collected in hour four\n",
      "Before giving her coworker some coins there were 15+35+35+50=<<15+35+35+50=135>>135 coins\n",
      "The number of coins after given 15 to her coworker is 135-15=<<135-15=120>>120\n",
      "#### 120\n",
      "\n",
      "Now, let's think step by step. \n"
     ]
    }
   ],
   "source": [
    "print(question)"
   ]
  },
  {
   "cell_type": "code",
   "execution_count": null,
   "metadata": {},
   "outputs": [],
   "source": []
  }
 ],
 "metadata": {
  "kernelspec": {
   "display_name": ".venv",
   "language": "python",
   "name": "python3"
  },
  "language_info": {
   "codemirror_mode": {
    "name": "ipython",
    "version": 3
   },
   "file_extension": ".py",
   "mimetype": "text/x-python",
   "name": "python",
   "nbconvert_exporter": "python",
   "pygments_lexer": "ipython3",
   "version": "3.11.9"
  }
 },
 "nbformat": 4,
 "nbformat_minor": 2
}
